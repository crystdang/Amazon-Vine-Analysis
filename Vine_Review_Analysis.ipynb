{
  "nbformat": 4,
  "nbformat_minor": 0,
  "metadata": {
    "colab": {
      "provenance": [],
      "authorship_tag": "ABX9TyNZ/0zN6eSMVLySBmo2hzu/",
      "include_colab_link": true
    },
    "kernelspec": {
      "name": "python3",
      "display_name": "Python 3"
    },
    "language_info": {
      "name": "python"
    }
  },
  "cells": [
    {
      "cell_type": "markdown",
      "metadata": {
        "id": "view-in-github",
        "colab_type": "text"
      },
      "source": [
        "<a href=\"https://colab.research.google.com/github/crystdang/Amazon-Vine-Analysis/blob/main/Vine_Review_Analysis.ipynb\" target=\"_parent\"><img src=\"https://colab.research.google.com/assets/colab-badge.svg\" alt=\"Open In Colab\"/></a>"
      ]
    },
    {
      "cell_type": "code",
      "execution_count": 1,
      "metadata": {
        "colab": {
          "base_uri": "https://localhost:8080/"
        },
        "id": "KTSv7bEETk08",
        "outputId": "2bbdb01d-edfb-4b66-dc7c-c7dde5b99789"
      },
      "outputs": [
        {
          "output_type": "stream",
          "name": "stdout",
          "text": [
            "Hit:1 https://cloud.r-project.org/bin/linux/ubuntu bionic-cran40/ InRelease\n",
            "Ign:2 https://developer.download.nvidia.com/compute/machine-learning/repos/ubuntu1804/x86_64  InRelease\n",
            "Hit:3 https://developer.download.nvidia.com/compute/cuda/repos/ubuntu1804/x86_64  InRelease\n",
            "Hit:4 https://developer.download.nvidia.com/compute/machine-learning/repos/ubuntu1804/x86_64  Release\n",
            "Hit:5 http://security.ubuntu.com/ubuntu bionic-security InRelease\n",
            "Hit:6 http://ppa.launchpad.net/c2d4u.team/c2d4u4.0+/ubuntu bionic InRelease\n",
            "Hit:7 http://archive.ubuntu.com/ubuntu bionic InRelease\n",
            "Hit:9 http://archive.ubuntu.com/ubuntu bionic-updates InRelease\n",
            "Hit:10 http://ppa.launchpad.net/cran/libgit2/ubuntu bionic InRelease\n",
            "Hit:11 http://archive.ubuntu.com/ubuntu bionic-backports InRelease\n",
            "Hit:12 http://ppa.launchpad.net/deadsnakes/ppa/ubuntu bionic InRelease\n",
            "Hit:13 http://ppa.launchpad.net/graphics-drivers/ppa/ubuntu bionic InRelease\n",
            "Reading package lists... Done\n"
          ]
        }
      ],
      "source": [
        "import os\n",
        "# Find the latest version of spark 3.2 from http://www.apache.org/dist/spark/ and enter as the spark version\n",
        "# For example:\n",
        "# spark_version = 'spark-3.2.3'\n",
        "spark_version = 'spark-3.2.3'\n",
        "os.environ['SPARK_VERSION']=spark_version\n",
        "\n",
        "# Install Spark and Java\n",
        "!apt-get update\n",
        "!apt-get install openjdk-11-jdk-headless -qq > /dev/null\n",
        "!wget -q http://www.apache.org/dist/spark/$SPARK_VERSION/$SPARK_VERSION-bin-hadoop2.7.tgz\n",
        "!tar xf $SPARK_VERSION-bin-hadoop2.7.tgz\n",
        "!pip install -q findspark\n",
        "\n",
        "# Set Environment Variables\n",
        "import os\n",
        "os.environ[\"JAVA_HOME\"] = \"/usr/lib/jvm/java-11-openjdk-amd64\"\n",
        "os.environ[\"SPARK_HOME\"] = f\"/content/{spark_version}-bin-hadoop2.7\"\n",
        "\n",
        "# Start a SparkSession\n",
        "import findspark\n",
        "findspark.init()"
      ]
    },
    {
      "cell_type": "code",
      "source": [
        "pip install pyspark"
      ],
      "metadata": {
        "colab": {
          "base_uri": "https://localhost:8080/"
        },
        "id": "H6cgQPC9T6zN",
        "outputId": "01bc2e35-e360-42b2-83a6-38855447f68e"
      },
      "execution_count": 2,
      "outputs": [
        {
          "output_type": "stream",
          "name": "stdout",
          "text": [
            "Looking in indexes: https://pypi.org/simple, https://us-python.pkg.dev/colab-wheels/public/simple/\n",
            "Requirement already satisfied: pyspark in /usr/local/lib/python3.8/dist-packages (3.3.1)\n",
            "Requirement already satisfied: py4j==0.10.9.5 in /usr/local/lib/python3.8/dist-packages (from pyspark) (0.10.9.5)\n"
          ]
        }
      ]
    },
    {
      "cell_type": "code",
      "source": [
        "from pyspark.sql import SparkSession\n",
        "spark = SparkSession.builder.appName(\"M17-Amazon-Challenge\").config(\"spark.driver.extraClassPath\",\"/content/postgresql-42.2.16.jar\").getOrCreate()"
      ],
      "metadata": {
        "id": "q0xY2GSvT8eK"
      },
      "execution_count": 3,
      "outputs": []
    },
    {
      "cell_type": "code",
      "source": [
        "from pyspark import SparkFiles\n",
        "url = \"https://s3.amazonaws.com/amazon-reviews-pds/tsv/amazon_reviews_us_Tools_v1_00.tsv.gz\"\n",
        "spark.sparkContext.addFile(url)\n",
        "df = spark.read.option(\"encoding\", \"UTF-8\").csv(SparkFiles.get(\"\"), sep=\"\\t\", header=True, inferSchema=True)\n",
        "df.show()"
      ],
      "metadata": {
        "colab": {
          "base_uri": "https://localhost:8080/"
        },
        "id": "pLVML4o8UHql",
        "outputId": "deb4fddd-0cf0-4915-efd5-1faf0a7ff49c"
      },
      "execution_count": 4,
      "outputs": [
        {
          "output_type": "stream",
          "name": "stdout",
          "text": [
            "+-----------+-----------+--------------+----------+--------------+--------------------+----------------+-----------+-------------+-----------+----+-----------------+--------------------+--------------------+-----------+\n",
            "|marketplace|customer_id|     review_id|product_id|product_parent|       product_title|product_category|star_rating|helpful_votes|total_votes|vine|verified_purchase|     review_headline|         review_body|review_date|\n",
            "+-----------+-----------+--------------+----------+--------------+--------------------+----------------+-----------+-------------+-----------+----+-----------------+--------------------+--------------------+-----------+\n",
            "|         US|   15785389|R2UM5QMHBHC90Q|B00H5U9ZD6|     115362950|WallPeg 12 sq ft ...|           Tools|          5|            0|          0|   N|                Y|Great organizer, ...|Very nice. Will o...| 2015-08-31|\n",
            "|         US|   47910848|  RF0D1LEIF6L7|B001TJGCS0|     570955425|Nite Ize Nite Daw...|           Tools|          4|            0|          0|   N|                Y|Like it, but the ...|Like it, but the ...| 2015-08-31|\n",
            "|         US|   36328996|  RM6YKIWQVNSY|B000NIK8JW|     128843593|Stanley 84-058 4 ...|           Tools|          1|            6|          6|   N|                Y|        poor quality|We were excited t...| 2015-08-31|\n",
            "|         US|   51785809|R1RL3L68ASPS36|B008ZYRGUA|     407828107|Powerextra 14.4V ...|           Tools|          4|            0|          0|   N|                Y|          Four Stars|Quick delivery. P...| 2015-08-31|\n",
            "|         US|   40757491|R1U4XFBFAG34CY|B00K5CA0GC|     490746675|Waterproof Invisi...|           Tools|          5|            0|          0|   N|                Y|          Five Stars|Quality waterproo...| 2015-08-31|\n",
            "|         US|   35544833|R3KFIK8P0I91PL|B00AIJAA94|     148352067|Crime Scene Do No...|           Tools|          5|            0|          0|   N|                Y|Excellent Decorat...|Ordered for my hu...| 2015-08-31|\n",
            "|         US|   16474909| RENOAY76PPK1O|B00JKEI6K8|     331801084|Aweek® 2 Pcs Bicy...|           Tools|          5|            0|          0|   N|                Y|          Five Stars|GREAT SELLER PROD...| 2015-08-31|\n",
            "|         US|   22601598| RINV884I0NL5V|B00AGCHVS6|     471514859|Ryobi P102 Genuin...|           Tools|          1|            0|          0|   N|                Y|Worked great for ...|My battery has di...| 2015-08-31|\n",
            "|         US|   16129808| R5KJH6CXZH2PX|B002S0O7U4|     162253576|Wiha 66995 6-Piec...|           Tools|          5|            0|          0|   N|                Y|       Great quality|Great product at ...| 2015-08-31|\n",
            "|         US|   24382335| RO69JF6QWD0W1|B0084YHXMW|      69530650|TOMTOP LED Submar...|           Tools|          5|            0|          0|   N|                Y|          Five Stars|           Excellent| 2015-08-31|\n",
            "|         US|   49796324|R3L9NQBH3FI55C|B00MLSS1SW|     916693555|Black & Decker BD...|           Tools|          4|            1|          1|   N|                Y|Really worked great!|This little sande...| 2015-08-31|\n",
            "|         US|   33289687| R4YH95YPHVU0C|B00D4WLS2A|      39333316|Crain 126 Staple ...|           Tools|          5|            0|          0|   N|                Y|         LOVE IT!!!!|This is the most ...| 2015-08-31|\n",
            "|         US|   10916386|R10M1WWDDQBGG2|B00JGCDV5Y|     550596607|Diamond Semi Roun...|           Tools|          2|            0|          0|   N|                Y|I needed to cut s...|I needed to cut s...| 2015-08-31|\n",
            "|         US|   34071500| RV3KWQBTNIO62|B00N0PS3YM|     735538025|It Mall 9 LED 375...|           Tools|          5|            1|          1|   N|                Y|   Works pretty well|Lights up small d...| 2015-08-31|\n",
            "|         US|   50594486|R1M7YUNLZI0G9F|B0000DD4KV|     506501960|IRWIN Tools Metri...|           Tools|          5|            1|          1|   N|                Y|          Five Stars|Great product for...| 2015-08-31|\n",
            "|         US|   21945887|R2MTL2D4E4HEF4|B0009H5FB8|     268586246|743022-A Backing ...|           Tools|          5|            0|          0|   N|                Y|          Five Stars|Many thanks for t...| 2015-08-31|\n",
            "|         US|   47749608| RXAHWIC1584UQ|B00NKSMPZW|     824618679|ClearArmor 141001...|           Tools|          5|           20|         23|   N|                Y|          Five Stars|geart product :) ...| 2015-08-31|\n",
            "|         US|   48880662| RMOIQFERVQDWS|B00RBAB92K|     156791442|KKmoon 9cm Mini A...|           Tools|          5|            0|          0|   N|                Y|          Five Stars|           very good| 2015-08-31|\n",
            "|         US|    4660265| R710G45MKODY9|B00QGBNZVI|     962324810|Refun E6 High Pow...|           Tools|          2|            1|          1|   N|                Y|           Two Stars|Scratches on lenses.| 2015-08-31|\n",
            "|         US|   18397238|R23ZIUGUM7TBMY|B00XXU3CDG|     543062309|Dr.meter S20 Mois...|           Tools|          1|            0|          1|   N|                Y|Don't waste your ...|It's a piece of $...| 2015-08-31|\n",
            "+-----------+-----------+--------------+----------+--------------+--------------------+----------------+-----------+-------------+-----------+----+-----------------+--------------------+--------------------+-----------+\n",
            "only showing top 20 rows\n",
            "\n"
          ]
        }
      ]
    },
    {
      "cell_type": "code",
      "source": [
        "# Create the vine_table. DataFrame\n",
        "vine_df = df.select([\"review_id\",\"star_rating\",\"helpful_votes\",\"total_votes\",\"vine\",\"verified_purchase\"])\n",
        "vine_df.show(truncate=False)"
      ],
      "metadata": {
        "colab": {
          "base_uri": "https://localhost:8080/"
        },
        "id": "8dvczHGdUQO_",
        "outputId": "2e8cea13-f971-44bd-b049-ffc90e1872e9"
      },
      "execution_count": 5,
      "outputs": [
        {
          "output_type": "stream",
          "name": "stdout",
          "text": [
            "+--------------+-----------+-------------+-----------+----+-----------------+\n",
            "|review_id     |star_rating|helpful_votes|total_votes|vine|verified_purchase|\n",
            "+--------------+-----------+-------------+-----------+----+-----------------+\n",
            "|R2UM5QMHBHC90Q|5          |0            |0          |N   |Y                |\n",
            "|RF0D1LEIF6L7  |4          |0            |0          |N   |Y                |\n",
            "|RM6YKIWQVNSY  |1          |6            |6          |N   |Y                |\n",
            "|R1RL3L68ASPS36|4          |0            |0          |N   |Y                |\n",
            "|R1U4XFBFAG34CY|5          |0            |0          |N   |Y                |\n",
            "|R3KFIK8P0I91PL|5          |0            |0          |N   |Y                |\n",
            "|RENOAY76PPK1O |5          |0            |0          |N   |Y                |\n",
            "|RINV884I0NL5V |1          |0            |0          |N   |Y                |\n",
            "|R5KJH6CXZH2PX |5          |0            |0          |N   |Y                |\n",
            "|RO69JF6QWD0W1 |5          |0            |0          |N   |Y                |\n",
            "|R3L9NQBH3FI55C|4          |1            |1          |N   |Y                |\n",
            "|R4YH95YPHVU0C |5          |0            |0          |N   |Y                |\n",
            "|R10M1WWDDQBGG2|2          |0            |0          |N   |Y                |\n",
            "|RV3KWQBTNIO62 |5          |1            |1          |N   |Y                |\n",
            "|R1M7YUNLZI0G9F|5          |1            |1          |N   |Y                |\n",
            "|R2MTL2D4E4HEF4|5          |0            |0          |N   |Y                |\n",
            "|RXAHWIC1584UQ |5          |20           |23         |N   |Y                |\n",
            "|RMOIQFERVQDWS |5          |0            |0          |N   |Y                |\n",
            "|R710G45MKODY9 |2          |1            |1          |N   |Y                |\n",
            "|R23ZIUGUM7TBMY|1          |0            |1          |N   |Y                |\n",
            "+--------------+-----------+-------------+-----------+----+-----------------+\n",
            "only showing top 20 rows\n",
            "\n"
          ]
        }
      ]
    },
    {
      "cell_type": "code",
      "source": [
        "# Load in a sql function to use columns\n",
        "from pyspark.sql.functions import col\n",
        "\n",
        "# Filter the data and create a new DataFrame or table to retrieve all the rows where the total_votes count\n",
        "# is equal to or greater than 20 to pick reviews that are more likely to be helpful and to avoid having division by zero errors later on.\n",
        "votes_df = vine_df.filter(col(\"total_votes\") >= 20)\n",
        "votes_df.show(truncate=False)"
      ],
      "metadata": {
        "colab": {
          "base_uri": "https://localhost:8080/"
        },
        "id": "MVt_gIMoUYIf",
        "outputId": "fdd1ad0a-1c4e-476a-c978-03c542688c17"
      },
      "execution_count": 6,
      "outputs": [
        {
          "output_type": "stream",
          "name": "stdout",
          "text": [
            "+--------------+-----------+-------------+-----------+----+-----------------+\n",
            "|review_id     |star_rating|helpful_votes|total_votes|vine|verified_purchase|\n",
            "+--------------+-----------+-------------+-----------+----+-----------------+\n",
            "|RXAHWIC1584UQ |5          |20           |23         |N   |Y                |\n",
            "|RSBELAIC899DO |5          |46           |51         |N   |Y                |\n",
            "|R2HCC4CJ59D225|4          |43           |43         |N   |Y                |\n",
            "|R39BVCCVPRV6F5|5          |10           |22         |N   |Y                |\n",
            "|RL9VF9WXHEHKR |5          |35           |36         |N   |Y                |\n",
            "|R1ZINLWUOLTZ46|1          |39           |45         |N   |N                |\n",
            "|R1CQKM1K1CHOHS|1          |21           |22         |N   |N                |\n",
            "|R1ZG19X1NOLCRF|5          |5            |21         |N   |Y                |\n",
            "|R1YOX5Z4GF3ZSW|1          |1            |22         |N   |Y                |\n",
            "|R2DHAM7J1KMWN |5          |23           |24         |N   |N                |\n",
            "|R2KOLBXPW57WC3|1          |4            |38         |N   |N                |\n",
            "|R26EZ2INBETPU2|1          |103          |128        |N   |N                |\n",
            "|R265ZMDO2ISN1O|5          |20           |21         |N   |Y                |\n",
            "|R3NZ7JTOCPYE1S|4          |32           |33         |N   |Y                |\n",
            "|R3HQQ725T45NCH|3          |9            |21         |N   |Y                |\n",
            "|R15JJ5AGVSB71T|5          |33           |33         |N   |Y                |\n",
            "|R28WDBNT2XRACG|1          |19           |24         |N   |Y                |\n",
            "|R3HP224QDFQ2SN|5          |21           |22         |N   |Y                |\n",
            "|RTURVI4KNPMG1 |5          |146          |154        |N   |Y                |\n",
            "|RH2BXZ337F38J |5          |62           |66         |N   |Y                |\n",
            "+--------------+-----------+-------------+-----------+----+-----------------+\n",
            "only showing top 20 rows\n",
            "\n"
          ]
        }
      ]
    },
    {
      "cell_type": "code",
      "source": [
        "# Filter the new DataFrame or table created in Step 1 and create a new DataFrame or table to retrieve all the rows where \n",
        "# the number of helpful_votes divided by total_votes is equal to or greater than 50%.\n",
        "top_votes_df = votes_df.filter((votes_df.helpful_votes / votes_df.total_votes) >= 0.5)\n",
        "top_votes_df.show(truncate=False)"
      ],
      "metadata": {
        "colab": {
          "base_uri": "https://localhost:8080/"
        },
        "id": "EFmg7PlWUrZV",
        "outputId": "9275b453-f9c5-487e-c5c6-04807d73a857"
      },
      "execution_count": 7,
      "outputs": [
        {
          "output_type": "stream",
          "name": "stdout",
          "text": [
            "+--------------+-----------+-------------+-----------+----+-----------------+\n",
            "|review_id     |star_rating|helpful_votes|total_votes|vine|verified_purchase|\n",
            "+--------------+-----------+-------------+-----------+----+-----------------+\n",
            "|RXAHWIC1584UQ |5          |20           |23         |N   |Y                |\n",
            "|RSBELAIC899DO |5          |46           |51         |N   |Y                |\n",
            "|R2HCC4CJ59D225|4          |43           |43         |N   |Y                |\n",
            "|RL9VF9WXHEHKR |5          |35           |36         |N   |Y                |\n",
            "|R1ZINLWUOLTZ46|1          |39           |45         |N   |N                |\n",
            "|R1CQKM1K1CHOHS|1          |21           |22         |N   |N                |\n",
            "|R2DHAM7J1KMWN |5          |23           |24         |N   |N                |\n",
            "|R26EZ2INBETPU2|1          |103          |128        |N   |N                |\n",
            "|R265ZMDO2ISN1O|5          |20           |21         |N   |Y                |\n",
            "|R3NZ7JTOCPYE1S|4          |32           |33         |N   |Y                |\n",
            "|R15JJ5AGVSB71T|5          |33           |33         |N   |Y                |\n",
            "|R28WDBNT2XRACG|1          |19           |24         |N   |Y                |\n",
            "|R3HP224QDFQ2SN|5          |21           |22         |N   |Y                |\n",
            "|RTURVI4KNPMG1 |5          |146          |154        |N   |Y                |\n",
            "|RH2BXZ337F38J |5          |62           |66         |N   |Y                |\n",
            "|R3G8L2NRMZZHPI|4          |23           |23         |N   |Y                |\n",
            "|R21Q3I2ZEDSMZK|5          |80           |84         |N   |Y                |\n",
            "|R16MXXKY0MRKZW|1          |48           |52         |N   |Y                |\n",
            "|R121P6RES3Z7WC|1          |145          |162        |N   |Y                |\n",
            "|R1ILUNGUCRZGF3|5          |21           |21         |N   |Y                |\n",
            "+--------------+-----------+-------------+-----------+----+-----------------+\n",
            "only showing top 20 rows\n",
            "\n"
          ]
        }
      ]
    },
    {
      "cell_type": "code",
      "source": [
        "# Filter the DataFrame or table created in Step 2, and create a new DataFrame or table that retrieves all the rows where \n",
        "# a review was written as part of the Vine program (paid), vine == 'Y'.\n",
        "paid_df = top_votes_df.filter(top_votes_df.vine == \"Y\")\n",
        "paid_df.show(truncate=False)"
      ],
      "metadata": {
        "colab": {
          "base_uri": "https://localhost:8080/"
        },
        "id": "o7AoJulGUvuw",
        "outputId": "939ab688-f974-48c6-b021-aaee99866527"
      },
      "execution_count": 8,
      "outputs": [
        {
          "output_type": "stream",
          "name": "stdout",
          "text": [
            "+--------------+-----------+-------------+-----------+----+-----------------+\n",
            "|review_id     |star_rating|helpful_votes|total_votes|vine|verified_purchase|\n",
            "+--------------+-----------+-------------+-----------+----+-----------------+\n",
            "|R3QIQRG107AP19|5          |38           |41         |Y   |N                |\n",
            "|R1ZNBHGCYE8VN1|5          |175          |181        |Y   |N                |\n",
            "|R1BNZJ9IKGRBC2|4          |63           |70         |Y   |N                |\n",
            "|R2IXTN4PBRHBO2|5          |19           |24         |Y   |N                |\n",
            "|R32AOW3L09SYMQ|5          |29           |34         |Y   |N                |\n",
            "|R34Z4VTLF7PC6X|4          |33           |36         |Y   |N                |\n",
            "|R25403NE9JCRZZ|2          |36           |40         |Y   |N                |\n",
            "|R2QT2G3YRGC0PS|5          |18           |20         |Y   |N                |\n",
            "|RDUP15OURNUSA |5          |22           |23         |Y   |N                |\n",
            "|R1EI4NZTG7G14F|5          |17           |23         |Y   |N                |\n",
            "|R2G0YB0MC67NLG|5          |29           |38         |Y   |N                |\n",
            "|RGA1PHAE93JR2 |1          |16           |21         |Y   |N                |\n",
            "|R1QS5MKSKOGG0U|5          |15           |20         |Y   |N                |\n",
            "|R3MVW880K2V5BK|3          |37           |46         |Y   |N                |\n",
            "|R11JKXPSMHSZY1|4          |21           |28         |Y   |N                |\n",
            "|RSPSTXGY3OD8  |5          |29           |33         |Y   |N                |\n",
            "|RQO0NNMNWRLB4 |3          |47           |54         |Y   |N                |\n",
            "|R3H5BSP5KCFHBG|4          |19           |21         |Y   |N                |\n",
            "|R2AIJIWME1WDKN|5          |16           |24         |Y   |N                |\n",
            "|R585MGH89JZZ5 |5          |27           |34         |Y   |N                |\n",
            "+--------------+-----------+-------------+-----------+----+-----------------+\n",
            "only showing top 20 rows\n",
            "\n"
          ]
        }
      ]
    },
    {
      "cell_type": "code",
      "source": [
        "# Repeat Step 3, but this time retrieve all the rows where the review was not part of the Vine program (unpaid), vine == 'N'.\n",
        "unpaid_df = top_votes_df.filter(top_votes_df.vine == \"N\")\n",
        "unpaid_df.show(truncate=False)"
      ],
      "metadata": {
        "colab": {
          "base_uri": "https://localhost:8080/"
        },
        "id": "_yRwaPX8U1qe",
        "outputId": "e49fd239-ffe7-4f87-cf2a-2f3c6c0318f6"
      },
      "execution_count": 9,
      "outputs": [
        {
          "output_type": "stream",
          "name": "stdout",
          "text": [
            "+--------------+-----------+-------------+-----------+----+-----------------+\n",
            "|review_id     |star_rating|helpful_votes|total_votes|vine|verified_purchase|\n",
            "+--------------+-----------+-------------+-----------+----+-----------------+\n",
            "|RXAHWIC1584UQ |5          |20           |23         |N   |Y                |\n",
            "|RSBELAIC899DO |5          |46           |51         |N   |Y                |\n",
            "|R2HCC4CJ59D225|4          |43           |43         |N   |Y                |\n",
            "|RL9VF9WXHEHKR |5          |35           |36         |N   |Y                |\n",
            "|R1ZINLWUOLTZ46|1          |39           |45         |N   |N                |\n",
            "|R1CQKM1K1CHOHS|1          |21           |22         |N   |N                |\n",
            "|R2DHAM7J1KMWN |5          |23           |24         |N   |N                |\n",
            "|R26EZ2INBETPU2|1          |103          |128        |N   |N                |\n",
            "|R265ZMDO2ISN1O|5          |20           |21         |N   |Y                |\n",
            "|R3NZ7JTOCPYE1S|4          |32           |33         |N   |Y                |\n",
            "|R15JJ5AGVSB71T|5          |33           |33         |N   |Y                |\n",
            "|R28WDBNT2XRACG|1          |19           |24         |N   |Y                |\n",
            "|R3HP224QDFQ2SN|5          |21           |22         |N   |Y                |\n",
            "|RTURVI4KNPMG1 |5          |146          |154        |N   |Y                |\n",
            "|RH2BXZ337F38J |5          |62           |66         |N   |Y                |\n",
            "|R3G8L2NRMZZHPI|4          |23           |23         |N   |Y                |\n",
            "|R21Q3I2ZEDSMZK|5          |80           |84         |N   |Y                |\n",
            "|R16MXXKY0MRKZW|1          |48           |52         |N   |Y                |\n",
            "|R121P6RES3Z7WC|1          |145          |162        |N   |Y                |\n",
            "|R1ILUNGUCRZGF3|5          |21           |21         |N   |Y                |\n",
            "+--------------+-----------+-------------+-----------+----+-----------------+\n",
            "only showing top 20 rows\n",
            "\n"
          ]
        }
      ]
    },
    {
      "cell_type": "code",
      "source": [
        "from pyspark.sql.functions import sum,avg,max,count\n",
        "# Determine the total number of reviews, the number of 5-star reviews, and the percentage of 5-star reviews \n",
        "# for the two types of review (paid vs unpaid).\n",
        "top_paid_df = paid_df.filter(paid_df.star_rating == 5)\n",
        "top_paid_df.show(truncate=False)\n",
        "paid_count = top_paid_df.agg(count(\"*\").alias(\"total_paid_reviews\"))\n",
        "paid_count.show()\n",
        "\n",
        "top_unpaid_df = unpaid_df.filter(unpaid_df.star_rating == 5)\n",
        "top_unpaid_df.show(truncate=False)\n",
        "unpaid_count = top_unpaid_df.agg(count(\"*\").alias(\"total_unpaid_reviews\"))\n",
        "unpaid_count.show()"
      ],
      "metadata": {
        "colab": {
          "base_uri": "https://localhost:8080/"
        },
        "id": "2UpdQGoiU5z_",
        "outputId": "cd2da88a-035a-41ab-f9fc-8fd21c8fc32f"
      },
      "execution_count": 13,
      "outputs": [
        {
          "output_type": "stream",
          "name": "stdout",
          "text": [
            "+--------------+-----------+-------------+-----------+----+-----------------+\n",
            "|review_id     |star_rating|helpful_votes|total_votes|vine|verified_purchase|\n",
            "+--------------+-----------+-------------+-----------+----+-----------------+\n",
            "|R3QIQRG107AP19|5          |38           |41         |Y   |N                |\n",
            "|R1ZNBHGCYE8VN1|5          |175          |181        |Y   |N                |\n",
            "|R2IXTN4PBRHBO2|5          |19           |24         |Y   |N                |\n",
            "|R32AOW3L09SYMQ|5          |29           |34         |Y   |N                |\n",
            "|R2QT2G3YRGC0PS|5          |18           |20         |Y   |N                |\n",
            "|RDUP15OURNUSA |5          |22           |23         |Y   |N                |\n",
            "|R1EI4NZTG7G14F|5          |17           |23         |Y   |N                |\n",
            "|R2G0YB0MC67NLG|5          |29           |38         |Y   |N                |\n",
            "|R1QS5MKSKOGG0U|5          |15           |20         |Y   |N                |\n",
            "|RSPSTXGY3OD8  |5          |29           |33         |Y   |N                |\n",
            "|R2AIJIWME1WDKN|5          |16           |24         |Y   |N                |\n",
            "|R585MGH89JZZ5 |5          |27           |34         |Y   |N                |\n",
            "|R25IDGC3EN533B|5          |52           |54         |Y   |N                |\n",
            "|RTFIYBCVEUJJ7 |5          |20           |22         |Y   |N                |\n",
            "|R1H301WI41O3J6|5          |21           |27         |Y   |N                |\n",
            "|R3MCNQ08DPBVDA|5          |36           |42         |Y   |N                |\n",
            "|R1A9OBMSOIV0XI|5          |66           |78         |Y   |N                |\n",
            "|R3LBXUM09KT64 |5          |18           |23         |Y   |N                |\n",
            "|R27O5YAT32SEGZ|5          |44           |53         |Y   |N                |\n",
            "|R2XVDR1ODKS2X7|5          |42           |47         |Y   |N                |\n",
            "+--------------+-----------+-------------+-----------+----+-----------------+\n",
            "only showing top 20 rows\n",
            "\n",
            "+------------------+\n",
            "|total_paid_reviews|\n",
            "+------------------+\n",
            "|               163|\n",
            "+------------------+\n",
            "\n",
            "+--------------+-----------+-------------+-----------+----+-----------------+\n",
            "|review_id     |star_rating|helpful_votes|total_votes|vine|verified_purchase|\n",
            "+--------------+-----------+-------------+-----------+----+-----------------+\n",
            "|RXAHWIC1584UQ |5          |20           |23         |N   |Y                |\n",
            "|RSBELAIC899DO |5          |46           |51         |N   |Y                |\n",
            "|RL9VF9WXHEHKR |5          |35           |36         |N   |Y                |\n",
            "|R2DHAM7J1KMWN |5          |23           |24         |N   |N                |\n",
            "|R265ZMDO2ISN1O|5          |20           |21         |N   |Y                |\n",
            "|R15JJ5AGVSB71T|5          |33           |33         |N   |Y                |\n",
            "|R3HP224QDFQ2SN|5          |21           |22         |N   |Y                |\n",
            "|RTURVI4KNPMG1 |5          |146          |154        |N   |Y                |\n",
            "|RH2BXZ337F38J |5          |62           |66         |N   |Y                |\n",
            "|R21Q3I2ZEDSMZK|5          |80           |84         |N   |Y                |\n",
            "|R1ILUNGUCRZGF3|5          |21           |21         |N   |Y                |\n",
            "|RF7YE185244QU |5          |25           |25         |N   |Y                |\n",
            "|R4JKI3DUIT682 |5          |27           |32         |N   |Y                |\n",
            "|RVUC6UNK20W53 |5          |82           |92         |N   |Y                |\n",
            "|RWSNCJQENZF2O |5          |35           |38         |N   |Y                |\n",
            "|R227SUICL2VZKQ|5          |20           |23         |N   |Y                |\n",
            "|R3CC6K4QKJ5T39|5          |33           |33         |N   |N                |\n",
            "|R2P0GQ0RO139GQ|5          |18           |21         |N   |Y                |\n",
            "|R144LE0R4IZPMC|5          |57           |67         |N   |N                |\n",
            "|R2JSMEDQJCIDUE|5          |46           |46         |N   |Y                |\n",
            "+--------------+-----------+-------------+-----------+----+-----------------+\n",
            "only showing top 20 rows\n",
            "\n",
            "+--------------------+\n",
            "|total_unpaid_reviews|\n",
            "+--------------------+\n",
            "|               14614|\n",
            "+--------------------+\n",
            "\n"
          ]
        }
      ]
    },
    {
      "cell_type": "code",
      "source": [],
      "metadata": {
        "id": "GRPS-YlocnFd"
      },
      "execution_count": 10,
      "outputs": []
    }
  ]
}